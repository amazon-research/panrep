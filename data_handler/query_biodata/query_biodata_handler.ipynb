{
 "cells": [
  {
   "cell_type": "code",
   "execution_count": 1,
   "metadata": {},
   "outputs": [],
   "source": [
    "import pickle"
   ]
  },
  {
   "cell_type": "code",
   "execution_count": 2,
   "metadata": {},
   "outputs": [
    {
     "ename": "FileNotFoundError",
     "evalue": "[Errno 2] No such file or directory: '../../data/query_biodata//graph_data.pkl'",
     "output_type": "error",
     "traceback": [
      "\u001b[0;31m---------------------------------------------------------------------------\u001b[0m",
      "\u001b[0;31mFileNotFoundError\u001b[0m                         Traceback (most recent call last)",
      "\u001b[0;32m<ipython-input-2-a84a3de89dc6>\u001b[0m in \u001b[0;36m<module>\u001b[0;34m\u001b[0m\n\u001b[1;32m      1\u001b[0m \u001b[0mdata_dir\u001b[0m\u001b[0;34m=\u001b[0m\u001b[0;34m'../../data/query_biodata/'\u001b[0m\u001b[0;34m\u001b[0m\u001b[0;34m\u001b[0m\u001b[0m\n\u001b[0;32m----> 2\u001b[0;31m \u001b[0mrels\u001b[0m\u001b[0;34m,\u001b[0m \u001b[0madj_lists\u001b[0m\u001b[0;34m,\u001b[0m \u001b[0mnode_maps\u001b[0m \u001b[0;34m=\u001b[0m \u001b[0mpickle\u001b[0m\u001b[0;34m.\u001b[0m\u001b[0mload\u001b[0m\u001b[0;34m(\u001b[0m\u001b[0mopen\u001b[0m\u001b[0;34m(\u001b[0m\u001b[0mdata_dir\u001b[0m\u001b[0;34m+\u001b[0m\u001b[0;34m\"/graph_data.pkl\"\u001b[0m\u001b[0;34m,\u001b[0m \u001b[0;34m\"rb\"\u001b[0m\u001b[0;34m)\u001b[0m\u001b[0;34m)\u001b[0m\u001b[0;34m\u001b[0m\u001b[0;34m\u001b[0m\u001b[0m\n\u001b[0m",
      "\u001b[0;31mFileNotFoundError\u001b[0m: [Errno 2] No such file or directory: '../../data/query_biodata//graph_data.pkl'"
     ]
    }
   ],
   "source": [
    "data_dir='../../data/query_biodata/'\n",
    "rels, adj_lists, node_maps = pickle.load(open(data_dir+\"/graph_data.pkl\", \"rb\"))"
   ]
  },
  {
   "cell_type": "code",
   "execution_count": null,
   "metadata": {},
   "outputs": [],
   "source": [
    "    node_maps = {m : {n : i for i, n in enumerate(id_list)} for m, id_list in node_maps.items()}\n",
    "    for m in node_maps:\n",
    "        node_maps[m][-1] = -1\n",
    "    feature_dims = {m : embed_dim for m in rels}\n",
    "    feature_modules = {m : torch.nn.Embedding(len(node_maps[m])+1, embed_dim) for m in rels}\n",
    "    for mode in rels:\n",
    "        feature_modules[mode].weight.data.normal_(0, 1./embed_dim)\n",
    "    features = lambda nodes, mode : feature_modules[mode](\n",
    "            torch.autograd.Variable(torch.LongTensor([node_maps[mode][n] for n in nodes])+1))\n",
    "    graph = Graph(features, feature_dims, rels, adj_lists)\n",
    "    return graph, feature_modules, node_maps"
   ]
  }
 ],
 "metadata": {
  "kernelspec": {
   "display_name": "Environment (conda_my_dgl)",
   "language": "python",
   "name": "conda_my_dgl"
  },
  "language_info": {
   "codemirror_mode": {
    "name": "ipython",
    "version": 3
   },
   "file_extension": ".py",
   "mimetype": "text/x-python",
   "name": "python",
   "nbconvert_exporter": "python",
   "pygments_lexer": "ipython3",
   "version": "3.6.10"
  }
 },
 "nbformat": 4,
 "nbformat_minor": 2
}
